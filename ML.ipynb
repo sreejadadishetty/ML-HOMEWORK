{
  "nbformat": 4,
  "nbformat_minor": 0,
  "metadata": {
    "colab": {
      "provenance": [],
      "authorship_tag": "ABX9TyMLjILoGTvoyUpa3ETQoEqL",
      "include_colab_link": true
    },
    "kernelspec": {
      "name": "python3",
      "display_name": "Python 3"
    },
    "language_info": {
      "name": "python"
    }
  },
  "cells": [
    {
      "cell_type": "markdown",
      "metadata": {
        "id": "view-in-github",
        "colab_type": "text"
      },
      "source": [
        "<a href=\"https://colab.research.google.com/github/sreejadadishetty/ML-HOMEWORK/blob/main/ML.ipynb\" target=\"_parent\"><img src=\"https://colab.research.google.com/assets/colab-badge.svg\" alt=\"Open In Colab\"/></a>"
      ]
    },
    {
      "cell_type": "code",
      "execution_count": 1,
      "metadata": {
        "colab": {
          "base_uri": "https://localhost:8080/"
        },
        "id": "JDyKsNnCz6k4",
        "outputId": "e5554bc6-faf2-417d-b64f-15081022104f"
      },
      "outputs": [
        {
          "output_type": "stream",
          "name": "stdout",
          "text": [
            "Enter total number of elements:5\n",
            "[0.86012965 0.09921483 0.492461   0.03774467 0.44770598]\n",
            "[0.17408963 0.85691857 0.01245643 0.87694475 0.36269758]\n",
            "1.4094869523260773\n",
            "0.30945343163581956\n",
            "-0.8528556214679758\n"
          ]
        }
      ],
      "source": [
        "import numpy as np\n",
        "import math\n",
        "total_elements = int(input(\"Enter total number of elements:\"))\n",
        "vector_one = np.random.rand(total_elements)\n",
        "vector_two = np.random.rand(total_elements)\n",
        "\n",
        "print(vector_one)\n",
        "print(vector_two)\n",
        "\n",
        "#Euclidean distance calculation\n",
        "\n",
        "def Euclide_Distance_calculation(vector_one, vector_two):\n",
        "  const = 0\n",
        "  vector_len=len(vector_one)\n",
        "  for i in range(vector_len):\n",
        "    const += (vector_one[i]-vector_two[i])**2\n",
        "  const = math.sqrt(const)\n",
        "  return const\n",
        "result_euclidean_distance= Euclide_Distance_calculation(vector_one,vector_two)\n",
        "print(result_euclidean_distance)\n",
        "\n",
        "# cosine similarity calculation\n",
        "\n",
        "def cosine_Similarity_calculation(vector_one,vector_two):\n",
        "  const = 0\n",
        "  const1=0\n",
        "  const2=0\n",
        "  for i in range(len(vector_one)):\n",
        "    const1 += vector_one[i]*vector_one[i]\n",
        "    const += vector_one[i]*vector_two[i]\n",
        "    const2 += vector_two[i]*vector_two[i]\n",
        "\n",
        "  const2 = math.sqrt(const2)\n",
        "  const1 = math.sqrt(const1)\n",
        "  const3=const1*const2\n",
        "  return (const/const3)\n",
        "resultant_cosine_Similarity=cosine_Similarity_calculation(vector_one,vector_two)\n",
        "print(resultant_cosine_Similarity)\n",
        "\n",
        "\n",
        "# correlation calculation\n",
        "\n",
        "def correlation_calculation(vector_one,vector_two):\n",
        "\n",
        "  const_x = 0\n",
        "  const_y = 0\n",
        "  covar_const = 0\n",
        "  length_x = len(vector_one)\n",
        "  mean_x = sum(vector_one)/length_x\n",
        "  len_y = len(vector_two)\n",
        "  mean_y = sum(vector_two)/len_y\n",
        "  for i in range(length_x):\n",
        "    const_y += (mean_y-vector_two[i])**2\n",
        "    const_x += (mean_x-vector_one[i])**2\n",
        "\n",
        "    if const_x==0 or const_y==0:\n",
        "      break\n",
        "    m1= vector_one[i]-mean_x\n",
        "    m2=vector_two[i]-mean_y\n",
        "    covar_const += (m1)*(m2)\n",
        "\n",
        "  covar_const = (1/(length_x-1))*covar_const\n",
        "  const_y = math.sqrt((1/(len_y-1))*const_y)\n",
        "  const_x = math.sqrt((1/(length_x-1))*const_x)\n",
        "  const_z=const_x*const_y\n",
        "  return (covar_const)/(const_z)\n",
        "\n",
        "resultant_correlation=correlation_calculation(vector_one,vector_two)\n",
        "print(resultant_correlation)\n"
      ]
    },
    {
      "cell_type": "code",
      "source": [
        "import numpy as np\n",
        "import math\n",
        "total_elements = int(input(\"Enter total number of elements:\"))\n",
        "vector_one = np.random.rand(total_elements)\n",
        "vector_two = np.random.rand(total_elements)\n",
        "\n",
        "print('value of vector1',vector_one)\n",
        "print('value of vector1',vector_two)\n",
        "\n",
        "def calculate_cosine_similarity_using_numpy(vector_one,vector_two):\n",
        "\n",
        "  const2=np.linalg.norm(vector_two)\n",
        "  const3=np.linalg.norm(vector_one)\n",
        "  const1=np.dot(vector_one, vector_two)\n",
        "  cosine_const = const1 / (const3 * const2)\n",
        "  return cosine_const\n",
        "\n",
        "cosine_resultant=calculate_cosine_similarity_using_numpy(vector_one,vector_two)\n",
        "print(\"Cosine similarity using numpy:\", cosine_resultant)\n",
        "\n",
        "\n",
        "def euclidean_distance_calc_using_numpy(vector_one, vector_two):\n",
        "  vector3=vector_one - vector_two\n",
        "  euclidean_const = np.linalg.norm(vector3)\n",
        "  return euclidean_const\n",
        "\n",
        "euclidean_const_resultant=euclidean_distance_calc_using_numpy(vector_one,vector_two)\n",
        "\n",
        "print(\"Euclidean distance using numpy:\", euclidean_const_resultant)\n",
        "\n",
        "\n",
        "def corr_calc_using_numpy(vector_one,vector_two):\n",
        "  vector3=np.corrcoef(vector_one, vector_two)\n",
        "  corr_const = vector3[0, 1]\n",
        "  return corr_const\n",
        "\n",
        "resultant_correlation=corr_calc_using_numpy(vector_one,vector_two)\n",
        "print(\"Correlation using numpy:\", resultant_correlation)"
      ],
      "metadata": {
        "colab": {
          "base_uri": "https://localhost:8080/"
        },
        "id": "kQXHsuXsFUQI",
        "outputId": "3ec81bf8-5222-48d2-e4cf-f0b048cdf163"
      },
      "execution_count": 2,
      "outputs": [
        {
          "output_type": "stream",
          "name": "stdout",
          "text": [
            "Enter total number of elements:5\n",
            "value of vector1 [0.28057629 0.69816063 0.39639268 0.81077753 0.80850689]\n",
            "value of vector1 [0.60286921 0.36502386 0.18322327 0.40037687 0.50763824]\n",
            "Cosine similarity using numpy: 0.8867887842636709\n",
            "Euclidean distance using numpy: 0.7205863413191843\n",
            "Correlation using numpy: -0.009703389637854777\n"
          ]
        }
      ]
    },
    {
      "cell_type": "code",
      "source": [
        "import numpy as np\n",
        "import pandas as pd\n",
        "import math\n",
        "total_elements = int(input(\"Enter total number of elements:\"))\n",
        "vector_one = np.random.rand(total_elements)\n",
        "vector_two = np.random.rand(total_elements)\n",
        "\n",
        "print('value of vector1',vector_one)\n",
        "print('value of vector1',vector_two)\n",
        "\n",
        "\n",
        "val1 = pd.Series(vector_one)\n",
        "val2 = pd.Series(vector_two)\n",
        "\n",
        "# Calculate correlation using pandas\n",
        "def corr_calc_using_pandas(val1,val2):\n",
        "  correlation_const = val1.corr(val2)\n",
        "  return correlation_const\n",
        "\n",
        "corr_const_pd=corr_calc_using_pandas(val1,val2)\n",
        "print(\"Correlation using pandas:\", corr_const_pd)\n",
        "\n",
        "\n"
      ],
      "metadata": {
        "colab": {
          "base_uri": "https://localhost:8080/"
        },
        "id": "lZCafx-yI4SY",
        "outputId": "ab3ce4a4-e400-4cbf-85e7-13e7fe4e9750"
      },
      "execution_count": 3,
      "outputs": [
        {
          "output_type": "stream",
          "name": "stdout",
          "text": [
            "Enter total number of elements:7\n",
            "value of vector1 [0.61000222 0.99865481 0.45481266 0.23793961 0.25926107 0.06960965\n",
            " 0.81362192]\n",
            "value of vector1 [0.87130832 0.97405232 0.6950271  0.91714116 0.61784603 0.33588034\n",
            " 0.28761565]\n",
            "Correlation using pandas: 0.26090554670610705\n"
          ]
        }
      ]
    },
    {
      "cell_type": "code",
      "source": [
        "import numpy as np\n",
        "from scipy.stats import pearsonr, spearmanr\n",
        "from scipy.spatial import distance as d1\n",
        "import math\n",
        "total_elements = int(input(\"Enter total number of elements:\"))\n",
        "vector_one = np.random.rand(total_elements)\n",
        "vector_two = np.random.rand(total_elements)\n",
        "\n",
        "print('value of vector1',vector_one)\n",
        "print('value of vector1',vector_two)\n",
        "\n",
        "\n",
        "# Calculate correlation using scipy\n",
        "def corr_using_scipy_calc(vector_one, vector_two):\n",
        "  vector3=pearsonr(vector_one, vector_two)\n",
        "  correlation_const = vector3[0]\n",
        "  return correlation_const\n",
        "\n",
        "corr_res_scipy=corr_using_scipy_calc(vector_one,vector_two)\n",
        "print(\"correlation using scipy:\", corr_res_scipy)\n",
        "\n",
        "\n",
        "\n",
        "# Calculate cosine similarity using scipy\n",
        "def cosine_scipy_calc(vector_one, vector_two):\n",
        "  cosine_similarity_const = d1.cosine(vector_one, vector_two)\n",
        "  return cosine_similarity_const\n",
        "\n",
        "cosine_scipy_result=cosine_scipy_calc(vector_one,vector_two)\n",
        "print(\"Cosine similarity using scipy::\", cosine_scipy_result)\n",
        "\n",
        "# Calculate Euclidean distance\n",
        "def cosine_scipy_calc(vector_one, vector_two):\n",
        "  euclidean_distance_const = d1.euclidean(vector_one, vector_two)\n",
        "  return euclidean_distance_const\n",
        "\n",
        "euclidean_res_scipy=cosine_scipy_calc(vector_one,vector_two)\n",
        "print(\"Euclidean distance using scipy:\", euclidean_res_scipy)"
      ],
      "metadata": {
        "colab": {
          "base_uri": "https://localhost:8080/"
        },
        "id": "Vl-Dy4ZVOYsE",
        "outputId": "13b8bebb-24b3-41f5-d584-022b731ba9fe"
      },
      "execution_count": 4,
      "outputs": [
        {
          "output_type": "stream",
          "name": "stdout",
          "text": [
            "Enter total number of elements:7\n",
            "value of vector1 [0.40650685 0.64926818 0.18238396 0.90081841 0.94665208 0.57416331\n",
            " 0.37361258]\n",
            "value of vector1 [0.25885046 0.62683476 0.53670813 0.06744553 0.29412848 0.09919926\n",
            " 0.82883933]\n",
            "correlation using scipy: -0.5151616277697344\n",
            "Cosine similarity using scipy:: 0.36509352684681495\n",
            "Euclidean distance using scipy: 1.304212757568941\n"
          ]
        }
      ]
    }
  ]
}